{
  "nbformat": 4,
  "nbformat_minor": 0,
  "metadata": {
    "colab": {
      "provenance": []
    },
    "kernelspec": {
      "name": "python3",
      "display_name": "Python 3"
    },
    "language_info": {
      "name": "python"
    }
  },
  "cells": [
    {
      "cell_type": "code",
      "execution_count": 6,
      "metadata": {
        "colab": {
          "base_uri": "https://localhost:8080/"
        },
        "id": "K0f3B_LdEwG1",
        "outputId": "92005e25-cd34-42df-9e6e-11cb4b3e8b32"
      },
      "outputs": [
        {
          "output_type": "stream",
          "name": "stdout",
          "text": [
            "The 23 element found at index 5\n"
          ]
        }
      ],
      "source": [
        "class Solution:\n",
        "  def sortList(self,list1):\n",
        "    for i in range(len(list1)):\n",
        "      for j in range(len(list1)-1):\n",
        "        if list1[j]>list1[j+1]:\n",
        "          temp=list1[j]\n",
        "          list1[j]=list1[j+1]\n",
        "          list1[j+1]=temp\n",
        "    return list1\n",
        "\n",
        "  def searchList(sef,list1,target):\n",
        "    left = 0\n",
        "    right = len(list1)-1\n",
        "    while left<=right:\n",
        "      mid = (left+right)//2\n",
        "      mid_val = list1[mid]\n",
        "      if mid_val == target:\n",
        "        return mid\n",
        "      elif mid_val<target:\n",
        "        left = mid+1\n",
        "      else:\n",
        "        right = mid-1\n",
        "    return -1\n",
        "\n",
        "\n",
        "arr = [2, 38, 56, 72, 91, 5, 8, 12, 16, 23]\n",
        "sol = Solution()\n",
        "target  = 23\n",
        "list1=sol.sortList(arr)\n",
        "result = sol.searchList(list1,target)\n",
        "if result!=-1:\n",
        "    print(f\"The {target} element found at index {result}\")\n",
        "else:\n",
        "  print(\"No element found\")\n"
      ]
    }
  ]
}